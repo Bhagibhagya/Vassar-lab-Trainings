{
 "cells": [
  {
   "cell_type": "code",
   "execution_count": 33,
   "metadata": {},
   "outputs": [],
   "source": [
    "import os\n",
    "\n",
    "from langchain.chains import LLMChain\n",
    "from langchain.chat_models import AzureChatOpenAI\n",
    "from langchain.prompts import (\n",
    "    ChatPromptTemplate,\n",
    "    HumanMessagePromptTemplate,\n",
    "    MessagesPlaceholder,\n",
    "    SystemMessagePromptTemplate\n",
    ")\n",
    "\n",
    "from langchain_core.messages import AIMessage, HumanMessage"
   ]
  },
  {
   "cell_type": "code",
   "execution_count": 34,
   "metadata": {},
   "outputs": [
    {
     "name": "stderr",
     "output_type": "stream",
     "text": [
      "/home/premkumar/ccp-venv/lib/python3.10/site-packages/langchain_community/chat_models/azure_openai.py:167: UserWarning: As of openai>=1.0.0, Azure endpoints should be specified via the `azure_endpoint` param not `openai_api_base` (or alias `base_url`). Updating `openai_api_base` from https://vassar-openai.openai.azure.com/ to https://vassar-openai.openai.azure.com/openai.\n",
      "  warnings.warn(\n",
      "/home/premkumar/ccp-venv/lib/python3.10/site-packages/langchain_community/chat_models/azure_openai.py:174: UserWarning: As of openai>=1.0.0, if `deployment_name` (or alias `azure_deployment`) is specified then `openai_api_base` (or alias `base_url`) should not be. Instead use `deployment_name` (or alias `azure_deployment`) and `azure_endpoint`.\n",
      "  warnings.warn(\n",
      "/home/premkumar/ccp-venv/lib/python3.10/site-packages/langchain_community/chat_models/azure_openai.py:182: UserWarning: As of openai>=1.0.0, if `openai_api_base` (or alias `base_url`) is specified it is expected to be of the form https://example-resource.azure.openai.com/openai/deployments/example-deployment. Updating https://vassar-openai.openai.azure.com/ to https://vassar-openai.openai.azure.com/openai.\n",
      "  warnings.warn(\n"
     ]
    }
   ],
   "source": [
    "OPENAI_API_KEY = \"95058a9e99794e4689d179dd726e7eec\"\n",
    "OPENAI_DEPLOYMENT_NAME = \"vassar-turbo35\"\n",
    "OPENAI_API_BASE = \"https://vassar-openai.openai.azure.com/\"\n",
    "MODEL_NAME = \"gpt-35-turbo\" \n",
    "OPENAI_API_TYPE = \"azure\"\n",
    "OPENAI_API_VERSION = \"2023-07-01-preview\"\n",
    "\n",
    "\n",
    "\n",
    "gpt3_llm = AzureChatOpenAI(\n",
    "            deployment_name=OPENAI_DEPLOYMENT_NAME,\n",
    "            model_name=MODEL_NAME,\n",
    "            openai_api_base=OPENAI_API_BASE,\n",
    "            openai_api_type=OPENAI_API_TYPE,\n",
    "            openai_api_key=OPENAI_API_KEY,\n",
    "            openai_api_version=OPENAI_API_VERSION,\n",
    "            temperature = 0.0\n",
    "        )"
   ]
  },
  {
   "cell_type": "code",
   "execution_count": 56,
   "metadata": {},
   "outputs": [],
   "source": [
    "response = gpt3_llm.invoke([\"human\",\"hi\"])"
   ]
  },
  {
   "cell_type": "markdown",
   "metadata": {},
   "source": []
  },
  {
   "cell_type": "markdown",
   "metadata": {},
   "source": [
    "### Prompt for Travel Assistant Chatbot"
   ]
  },
  {
   "cell_type": "code",
   "execution_count": 44,
   "metadata": {},
   "outputs": [],
   "source": [
    "WEEKEND_OUTING_PROMPT= \"\"\"\n",
    "You are a travel assistant specializing in weekend getaways for users in India. \\\n",
    "Your goal is to engage users in human natural language conversations, understand their preferences, and suggest the best travel destinations accordingly.\n",
    "Output your responses in 10-15 words.\n",
    "\n",
    "Follow these steps:\n",
    "\n",
    "1. Warmly greet the user and introduce yourself as their travel assistant.\n",
    "2. Ask about the duration of travel, such as \"How many days are you planning for your weekend getaway?\"\n",
    "3. Inquire about the type of destination the user is interested in, for example, \"What kind of place are you looking for? (e.g., beach, mountains, historical cities)\"\n",
    "4. Gather information about the user's preferred mode of travel, whether it's by car, train, or flight.\n",
    "5. Based on the user's inputs, suggest the best travel destinations within India for a weekend getaway.\n",
    "6. Provide additional details about each suggested destination, including highlights, activities, and travel tips.\n",
    "7. Allow the user to ask questions or request more information about specific destinations.\n",
    "8. Maintain a friendly and conversational tone throughout the interaction.\n",
    "\"\"\"\n"
   ]
  },
  {
   "cell_type": "code",
   "execution_count": 45,
   "metadata": {},
   "outputs": [],
   "source": [
    "chat_prompt = ChatPromptTemplate(\n",
    "    messages=[\n",
    "        SystemMessagePromptTemplate.from_template(WEEKEND_OUTING_PROMPT),\n",
    "         MessagesPlaceholder(variable_name=\"chat_history\"),\n",
    "        HumanMessagePromptTemplate.from_template(\"{question}\"),\n",
    "    ]\n",
    ")"
   ]
  },
  {
   "cell_type": "code",
   "execution_count": 46,
   "metadata": {},
   "outputs": [],
   "source": [
    "llm_chain = LLMChain(llm=gpt3_llm, prompt=chat_prompt)"
   ]
  },
  {
   "cell_type": "code",
   "execution_count": 47,
   "metadata": {},
   "outputs": [],
   "source": [
    "chat_history = []"
   ]
  },
  {
   "cell_type": "code",
   "execution_count": 52,
   "metadata": {},
   "outputs": [
    {
     "name": "stdout",
     "output_type": "stream",
     "text": [
      "For a beach getaway, I have two suggestions for you:\n",
      "\n",
      "1. Goa: Known for its beautiful beaches, Goa is a popular destination for a weekend trip. You can fly to Goa and then rent a car to explore the stunning coastline. Don't miss out on visiting popular beaches like Baga, Calangute, and Anjuna. Enjoy water sports, indulge in delicious seafood, and experience the vibrant nightlife.\n",
      "\n",
      "2. Gokarna: Located in Karnataka, Gokarna is a serene beach town that offers a more laid-back experience. You can take a flight to Goa and then drive to Gokarna. The beaches here, such as Om Beach and Kudle Beach, are less crowded and perfect for relaxation. You can also visit the famous Mahabaleshwar Temple and enjoy trekking to nearby hills.\n",
      "\n",
      "Let me know if you'd like more information about any of these destinations or if you have any other questions!\n"
     ]
    }
   ],
   "source": [
    "question = input(\"User: \")\n",
    "\n",
    "response = llm_chain.run({\n",
    "    \"question\": question,\n",
    "    \"chat_history\": chat_history\n",
    "})\n",
    "\n",
    "print(response)\n",
    "\n",
    "chat_history.extend([HumanMessage(content=question),AIMessage(content=response)])"
   ]
  },
  {
   "cell_type": "code",
   "execution_count": null,
   "metadata": {},
   "outputs": [],
   "source": []
  }
 ],
 "metadata": {
  "kernelspec": {
   "display_name": "ccp-venv",
   "language": "python",
   "name": "python3"
  },
  "language_info": {
   "codemirror_mode": {
    "name": "ipython",
    "version": 3
   },
   "file_extension": ".py",
   "mimetype": "text/x-python",
   "name": "python",
   "nbconvert_exporter": "python",
   "pygments_lexer": "ipython3",
   "version": "3.10.12"
  }
 },
 "nbformat": 4,
 "nbformat_minor": 2
}
